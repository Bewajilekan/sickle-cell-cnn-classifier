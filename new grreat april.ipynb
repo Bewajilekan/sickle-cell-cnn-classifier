{
  "cells": [
    {
      "cell_type": "code",
      "execution_count": null,
      "id": "4832dce7-4c31-4690-a6ba-da6c0d4a6a07",
      "metadata": {
        "id": "4832dce7-4c31-4690-a6ba-da6c0d4a6a07"
      },
      "outputs": [],
      "source": [
        "import os\n",
        "import torch\n",
        "import torch.nn as nn\n",
        "import torch.optim as optim\n",
        "import torch.nn.functional as F\n",
        "import torchvision.transforms as transforms\n",
        "import torchvision.models as models\n",
        "from torch.utils.data import DataLoader, random_split, Dataset\n",
        "from torchvision.datasets import ImageFolder\n",
        "from PIL import Image\n",
        "import glob\n",
        "import cv2\n",
        "import matplotlib.pyplot as plt\n",
        "import numpy as np\n",
        "from tqdm import tqdm\n",
        "from sklearn.metrics import confusion_matrix, ConfusionMatrixDisplay, accuracy_score, precision_score, recall_score, f1_score\n"
      ]
    },
    {
      "cell_type": "code",
      "execution_count": null,
      "id": "14cfa86c-2eb7-455c-b061-19807ce9b108",
      "metadata": {
        "id": "14cfa86c-2eb7-455c-b061-19807ce9b108"
      },
      "outputs": [],
      "source": [
        "# Data Augmentation and Preprocessing\n",
        "transform = transforms.Compose([\n",
        "    transforms.Resize((224, 224)),\n",
        "    transforms.RandomHorizontalFlip(p=0.5),\n",
        "    transforms.RandomRotation(20),\n",
        "    transforms.RandomResizedCrop(224, scale=(0.8, 1.0)),\n",
        "    transforms.ColorJitter(brightness=0.2, contrast=0.2, saturation=0.2),\n",
        "    transforms.ToTensor(),\n",
        "    transforms.Normalize(mean=[0.485, 0.456, 0.406], std=[0.229, 0.224, 0.225])\n",
        "])\n"
      ]
    },
    {
      "cell_type": "code",
      "execution_count": null,
      "id": "174823c9-60ea-4f0a-944a-766b52f4579e",
      "metadata": {
        "id": "174823c9-60ea-4f0a-944a-766b52f4579e"
      },
      "outputs": [],
      "source": [
        "# Dataset Class for Loading Images\n",
        "class SickleCellDataset(Dataset):\n",
        "    def __init__(self, image_paths, labels, transform=None):\n",
        "        self.image_paths = image_paths\n",
        "        self.labels = labels\n",
        "        self.transform = transform\n",
        "\n",
        "    def __len__(self):\n",
        "        return len(self.image_paths)\n",
        "\n",
        "    def __getitem__(self, idx):\n",
        "        img_path = self.image_paths[idx]\n",
        "        image = Image.open(img_path).convert(\"RGB\")\n",
        "        label = self.labels[idx]\n",
        "        if self.transform:\n",
        "            image = self.transform(image)\n",
        "        return image, label"
      ]
    },
    {
      "cell_type": "code",
      "execution_count": null,
      "id": "00d78a4a-094d-4ace-888f-98ece2d99f9b",
      "metadata": {
        "id": "00d78a4a-094d-4ace-888f-98ece2d99f9b",
        "outputId": "7d65268a-b827-4af9-b1b8-457e253d7cbc"
      },
      "outputs": [
        {
          "name": "stdout",
          "output_type": "stream",
          "text": [
            "True\n",
            "True\n"
          ]
        }
      ],
      "source": [
        "import os\n",
        "\n",
        "print(os.path.exists(r\"C:\\Users\\bewaj\\Downloads\\sickle cell research project datas needed\\archive\\Positive\"))\n",
        "print(os.path.exists(r\"C:\\Users\\bewaj\\Downloads\\sickle cell research project datas needed\\archive\\Negative\"))\n"
      ]
    },
    {
      "cell_type": "code",
      "execution_count": null,
      "id": "7adb8c8c-fcd2-4f56-b5ef-e44fef42323c",
      "metadata": {
        "id": "7adb8c8c-fcd2-4f56-b5ef-e44fef42323c",
        "outputId": "22fa9613-8878-4cf3-ef51-5905bc395770"
      },
      "outputs": [
        {
          "name": "stdout",
          "output_type": "stream",
          "text": [
            "Positive folder files:\n",
            "['Labelled', 'Unlabelled']\n",
            "\n",
            "Negative folder files:\n",
            "['Clear']\n"
          ]
        }
      ],
      "source": [
        "import os\n",
        "\n",
        "positive_folder = r\"C:\\Users\\bewaj\\Downloads\\sickle cell research project datas needed\\archive\\Positive\"\n",
        "negative_folder = r\"C:\\Users\\bewaj\\Downloads\\sickle cell research project datas needed\\archive\\Negative\"\n",
        "\n",
        "print(\"Positive folder files:\")\n",
        "print(os.listdir(positive_folder))\n",
        "\n",
        "print(\"\\nNegative folder files:\")\n",
        "print(os.listdir(negative_folder))\n"
      ]
    },
    {
      "cell_type": "code",
      "execution_count": null,
      "id": "5878559f-31d6-4b2c-8775-de264ea7fdcc",
      "metadata": {
        "id": "5878559f-31d6-4b2c-8775-de264ea7fdcc",
        "outputId": "84e36ea9-1189-474b-9e46-ec3dbe9c8fe6"
      },
      "outputs": [
        {
          "name": "stdout",
          "output_type": "stream",
          "text": [
            "✅ Found 844 positive images\n",
            "✅ Found 294 negative images\n"
          ]
        }
      ],
      "source": [
        "import os\n",
        "import glob\n",
        "\n",
        "# Define the exact subfolder paths\n",
        "positive_folder = r\"C:\\Users\\bewaj\\Downloads\\sickle cell research project datas needed\\archive\\Positive\\Labelled\"\n",
        "negative_folder = r\"C:\\Users\\bewaj\\Downloads\\sickle cell research project datas needed\\archive\\Negative\\Clear\"\n",
        "\n",
        "# File types to look for\n",
        "image_extensions = ['*.jpg', '*.jpeg', '*.png', '*.JPG', '*.JPEG', '*.PNG']\n",
        "\n",
        "positive_images = []\n",
        "negative_images = []\n",
        "\n",
        "# Collect all matching files\n",
        "for ext in image_extensions:\n",
        "    positive_images.extend(glob.glob(os.path.join(positive_folder, ext)))\n",
        "    negative_images.extend(glob.glob(os.path.join(negative_folder, ext)))\n",
        "\n",
        "# print\n",
        "print(f\"✅ Found {len(positive_images)} positive images\")\n",
        "print(f\"✅ Found {len(negative_images)} negative images\")\n",
        "\n",
        "# Combine paths and labels\n",
        "image_paths = positive_images + negative_images\n",
        "labels = [1] * len(positive_images) + [0] * len(negative_images)\n",
        "\n",
        "# Now create dataset\n",
        "dataset = SickleCellDataset(image_paths=image_paths, labels=labels, transform=transform)\n"
      ]
    },
    {
      "cell_type": "code",
      "execution_count": null,
      "id": "f0862531-554b-426a-b0d0-438aa22cff9e",
      "metadata": {
        "id": "f0862531-554b-426a-b0d0-438aa22cff9e"
      },
      "outputs": [],
      "source": [
        "# Train-Val-Test Split (70-15-15)\n",
        "train_ratio, val_ratio = 0.7, 0.15\n",
        "train_size = int(train_ratio * len(dataset))\n",
        "val_size = int(val_ratio * len(dataset))\n",
        "test_size = len(dataset) - train_size - val_size\n",
        "train_dataset, val_dataset, test_dataset = random_split(dataset, [train_size, val_size, test_size])"
      ]
    },
    {
      "cell_type": "code",
      "execution_count": null,
      "id": "32ad3a00-eed2-4177-92d5-ed8155082e3a",
      "metadata": {
        "id": "32ad3a00-eed2-4177-92d5-ed8155082e3a"
      },
      "outputs": [],
      "source": [
        "# Data Loaders\n",
        "batch_size = 32\n",
        "train_loader = DataLoader(train_dataset, batch_size=batch_size, shuffle=True, num_workers=4)\n",
        "val_loader = DataLoader(val_dataset, batch_size=batch_size, shuffle=False, num_workers=4)\n",
        "test_loader = DataLoader(test_dataset, batch_size=batch_size, shuffle=False, num_workers=4)"
      ]
    },
    {
      "cell_type": "code",
      "execution_count": null,
      "id": "f953c192-41a2-4d23-b76c-ff91add8f596",
      "metadata": {
        "id": "f953c192-41a2-4d23-b76c-ff91add8f596"
      },
      "outputs": [],
      "source": [
        "# Define Model (Custom CNN or Pretrained ResNet18)\n",
        "class SickleCellClassifier(nn.Module):\n",
        "    def __init__(self, base_model=\"resnet\"):\n",
        "        super(SickleCellClassifier, self).__init__()\n",
        "        if base_model == \"resnet\":\n",
        "            self.model = models.resnet18(pretrained=True)\n",
        "            self.model.fc = nn.Linear(self.model.fc.in_features, 2)\n",
        "        elif base_model == \"mobilenet\":\n",
        "            self.model = models.mobilenet_v2(pretrained=True)\n",
        "            self.model.classifier[1] = nn.Linear(self.model.last_channel, 2)\n",
        "        self.gradients = None\n",
        "        self.activations = None\n",
        "\n",
        "    def activations_hook(self, grad):\n",
        "        self.gradients = grad\n",
        "\n",
        "    def forward(self, x):\n",
        "        x = self.model(x)\n",
        "        return x\n"
      ]
    },
    {
      "cell_type": "code",
      "execution_count": null,
      "id": "3a8d6853-e010-41cf-94e7-2a011faf0372",
      "metadata": {
        "id": "3a8d6853-e010-41cf-94e7-2a011faf0372",
        "outputId": "94f054e6-484a-41b1-d7bb-82d4e2455e9a"
      },
      "outputs": [
        {
          "name": "stderr",
          "output_type": "stream",
          "text": [
            "C:\\Users\\bewaj\\anaconda3\\Lib\\site-packages\\torchvision\\models\\_utils.py:208: UserWarning: The parameter 'pretrained' is deprecated since 0.13 and may be removed in the future, please use 'weights' instead.\n",
            "  warnings.warn(\n",
            "C:\\Users\\bewaj\\anaconda3\\Lib\\site-packages\\torchvision\\models\\_utils.py:223: UserWarning: Arguments other than a weight enum or `None` for 'weights' are deprecated since 0.13 and may be removed in the future. The current behavior is equivalent to passing `weights=ResNet18_Weights.IMAGENET1K_V1`. You can also use `weights=ResNet18_Weights.DEFAULT` to get the most up-to-date weights.\n",
            "  warnings.warn(msg)\n",
            "Downloading: \"https://download.pytorch.org/models/resnet18-f37072fd.pth\" to C:\\Users\\bewaj/.cache\\torch\\hub\\checkpoints\\resnet18-f37072fd.pth\n",
            "100%|█████████████████████████████████████████████████████████████████████████████| 44.7M/44.7M [00:06<00:00, 6.92MB/s]\n"
          ]
        },
        {
          "data": {
            "text/plain": [
              "SickleCellClassifier(\n",
              "  (model): ResNet(\n",
              "    (conv1): Conv2d(3, 64, kernel_size=(7, 7), stride=(2, 2), padding=(3, 3), bias=False)\n",
              "    (bn1): BatchNorm2d(64, eps=1e-05, momentum=0.1, affine=True, track_running_stats=True)\n",
              "    (relu): ReLU(inplace=True)\n",
              "    (maxpool): MaxPool2d(kernel_size=3, stride=2, padding=1, dilation=1, ceil_mode=False)\n",
              "    (layer1): Sequential(\n",
              "      (0): BasicBlock(\n",
              "        (conv1): Conv2d(64, 64, kernel_size=(3, 3), stride=(1, 1), padding=(1, 1), bias=False)\n",
              "        (bn1): BatchNorm2d(64, eps=1e-05, momentum=0.1, affine=True, track_running_stats=True)\n",
              "        (relu): ReLU(inplace=True)\n",
              "        (conv2): Conv2d(64, 64, kernel_size=(3, 3), stride=(1, 1), padding=(1, 1), bias=False)\n",
              "        (bn2): BatchNorm2d(64, eps=1e-05, momentum=0.1, affine=True, track_running_stats=True)\n",
              "      )\n",
              "      (1): BasicBlock(\n",
              "        (conv1): Conv2d(64, 64, kernel_size=(3, 3), stride=(1, 1), padding=(1, 1), bias=False)\n",
              "        (bn1): BatchNorm2d(64, eps=1e-05, momentum=0.1, affine=True, track_running_stats=True)\n",
              "        (relu): ReLU(inplace=True)\n",
              "        (conv2): Conv2d(64, 64, kernel_size=(3, 3), stride=(1, 1), padding=(1, 1), bias=False)\n",
              "        (bn2): BatchNorm2d(64, eps=1e-05, momentum=0.1, affine=True, track_running_stats=True)\n",
              "      )\n",
              "    )\n",
              "    (layer2): Sequential(\n",
              "      (0): BasicBlock(\n",
              "        (conv1): Conv2d(64, 128, kernel_size=(3, 3), stride=(2, 2), padding=(1, 1), bias=False)\n",
              "        (bn1): BatchNorm2d(128, eps=1e-05, momentum=0.1, affine=True, track_running_stats=True)\n",
              "        (relu): ReLU(inplace=True)\n",
              "        (conv2): Conv2d(128, 128, kernel_size=(3, 3), stride=(1, 1), padding=(1, 1), bias=False)\n",
              "        (bn2): BatchNorm2d(128, eps=1e-05, momentum=0.1, affine=True, track_running_stats=True)\n",
              "        (downsample): Sequential(\n",
              "          (0): Conv2d(64, 128, kernel_size=(1, 1), stride=(2, 2), bias=False)\n",
              "          (1): BatchNorm2d(128, eps=1e-05, momentum=0.1, affine=True, track_running_stats=True)\n",
              "        )\n",
              "      )\n",
              "      (1): BasicBlock(\n",
              "        (conv1): Conv2d(128, 128, kernel_size=(3, 3), stride=(1, 1), padding=(1, 1), bias=False)\n",
              "        (bn1): BatchNorm2d(128, eps=1e-05, momentum=0.1, affine=True, track_running_stats=True)\n",
              "        (relu): ReLU(inplace=True)\n",
              "        (conv2): Conv2d(128, 128, kernel_size=(3, 3), stride=(1, 1), padding=(1, 1), bias=False)\n",
              "        (bn2): BatchNorm2d(128, eps=1e-05, momentum=0.1, affine=True, track_running_stats=True)\n",
              "      )\n",
              "    )\n",
              "    (layer3): Sequential(\n",
              "      (0): BasicBlock(\n",
              "        (conv1): Conv2d(128, 256, kernel_size=(3, 3), stride=(2, 2), padding=(1, 1), bias=False)\n",
              "        (bn1): BatchNorm2d(256, eps=1e-05, momentum=0.1, affine=True, track_running_stats=True)\n",
              "        (relu): ReLU(inplace=True)\n",
              "        (conv2): Conv2d(256, 256, kernel_size=(3, 3), stride=(1, 1), padding=(1, 1), bias=False)\n",
              "        (bn2): BatchNorm2d(256, eps=1e-05, momentum=0.1, affine=True, track_running_stats=True)\n",
              "        (downsample): Sequential(\n",
              "          (0): Conv2d(128, 256, kernel_size=(1, 1), stride=(2, 2), bias=False)\n",
              "          (1): BatchNorm2d(256, eps=1e-05, momentum=0.1, affine=True, track_running_stats=True)\n",
              "        )\n",
              "      )\n",
              "      (1): BasicBlock(\n",
              "        (conv1): Conv2d(256, 256, kernel_size=(3, 3), stride=(1, 1), padding=(1, 1), bias=False)\n",
              "        (bn1): BatchNorm2d(256, eps=1e-05, momentum=0.1, affine=True, track_running_stats=True)\n",
              "        (relu): ReLU(inplace=True)\n",
              "        (conv2): Conv2d(256, 256, kernel_size=(3, 3), stride=(1, 1), padding=(1, 1), bias=False)\n",
              "        (bn2): BatchNorm2d(256, eps=1e-05, momentum=0.1, affine=True, track_running_stats=True)\n",
              "      )\n",
              "    )\n",
              "    (layer4): Sequential(\n",
              "      (0): BasicBlock(\n",
              "        (conv1): Conv2d(256, 512, kernel_size=(3, 3), stride=(2, 2), padding=(1, 1), bias=False)\n",
              "        (bn1): BatchNorm2d(512, eps=1e-05, momentum=0.1, affine=True, track_running_stats=True)\n",
              "        (relu): ReLU(inplace=True)\n",
              "        (conv2): Conv2d(512, 512, kernel_size=(3, 3), stride=(1, 1), padding=(1, 1), bias=False)\n",
              "        (bn2): BatchNorm2d(512, eps=1e-05, momentum=0.1, affine=True, track_running_stats=True)\n",
              "        (downsample): Sequential(\n",
              "          (0): Conv2d(256, 512, kernel_size=(1, 1), stride=(2, 2), bias=False)\n",
              "          (1): BatchNorm2d(512, eps=1e-05, momentum=0.1, affine=True, track_running_stats=True)\n",
              "        )\n",
              "      )\n",
              "      (1): BasicBlock(\n",
              "        (conv1): Conv2d(512, 512, kernel_size=(3, 3), stride=(1, 1), padding=(1, 1), bias=False)\n",
              "        (bn1): BatchNorm2d(512, eps=1e-05, momentum=0.1, affine=True, track_running_stats=True)\n",
              "        (relu): ReLU(inplace=True)\n",
              "        (conv2): Conv2d(512, 512, kernel_size=(3, 3), stride=(1, 1), padding=(1, 1), bias=False)\n",
              "        (bn2): BatchNorm2d(512, eps=1e-05, momentum=0.1, affine=True, track_running_stats=True)\n",
              "      )\n",
              "    )\n",
              "    (avgpool): AdaptiveAvgPool2d(output_size=(1, 1))\n",
              "    (fc): Linear(in_features=512, out_features=2, bias=True)\n",
              "  )\n",
              ")"
            ]
          },
          "execution_count": 45,
          "metadata": {},
          "output_type": "execute_result"
        }
      ],
      "source": [
        "# Instantiate Model\n",
        "device = torch.device(\"cuda\" if torch.cuda.is_available() else \"cpu\")\n",
        "model = SickleCellClassifier(base_model=\"resnet\")\n",
        "model.to(device)"
      ]
    },
    {
      "cell_type": "code",
      "execution_count": null,
      "id": "9cdeebce-11e6-43d8-8e93-665354efa6b0",
      "metadata": {
        "id": "9cdeebce-11e6-43d8-8e93-665354efa6b0"
      },
      "outputs": [],
      "source": [
        "# Loss Function and Optimizer\n",
        "criterion = nn.CrossEntropyLoss()\n",
        "optimizer = optim.Adam(model.parameters(), lr=0.0001, weight_decay=1e-4)\n"
      ]
    },
    {
      "cell_type": "code",
      "execution_count": null,
      "id": "612481cc-63d6-43ad-a4ec-ba213c81e1bb",
      "metadata": {
        "id": "612481cc-63d6-43ad-a4ec-ba213c81e1bb",
        "outputId": "3f3bdeb0-ec3d-4cb8-94cf-fc47fa0c93e6"
      },
      "outputs": [
        {
          "name": "stderr",
          "output_type": "stream",
          "text": [
            "Training Epoch 1/50:   0%|                                                                      | 0/25 [00:00<?, ?it/s]"
          ]
        }
      ],
      "source": [
        "# Training Loop\n",
        "num_epochs = 50\n",
        "best_val_acc = 0\n",
        "model_save_path = \"best_sickle_cell_model.pth\"  # Path to save the best model\n",
        "\n",
        "for epoch in range(num_epochs):\n",
        "    model.train()\n",
        "    running_loss, correct, total = 0.0, 0, 0\n",
        "\n",
        "    for images, labels in tqdm(train_loader, desc=f\"Training Epoch {epoch+1}/{num_epochs}\"):\n",
        "        images, labels = images.to(device), labels.to(device)\n",
        "\n",
        "        optimizer.zero_grad()\n",
        "        outputs = model(images)\n",
        "        loss = criterion(outputs, labels)\n",
        "        loss.backward()\n",
        "        optimizer.step()\n",
        "\n",
        "        running_loss += loss.item()\n",
        "        _, predicted = outputs.max(1)\n",
        "        correct += predicted.eq(labels).sum().item()\n",
        "        total += labels.size(0)\n",
        "\n",
        "    train_acc = 100 * correct / total\n",
        "\n",
        "    # Validation\n",
        "    model.eval()\n",
        "    val_correct, val_total = 0, 0\n",
        "    with torch.no_grad():\n",
        "        for images, labels in val_loader:\n",
        "            images, labels = images.to(device), labels.to(device)\n",
        "            outputs = model(images)\n",
        "            _, predicted = outputs.max(1)\n",
        "            val_correct += predicted.eq(labels).sum().item()\n",
        "            val_total += labels.size(0)\n",
        "\n",
        "    val_acc = 100 * val_correct / val_total\n",
        "    print(f\"Epoch {epoch+1}: Train Acc: {train_acc:.2f}%, Val Acc: {val_acc:.2f}%\")\n",
        "\n",
        "    # Save best model\n",
        "    if val_acc > best_val_acc:\n",
        "        best_val_acc = val_acc\n",
        "        torch.save(model.state_dict(), model_save_path)\n",
        "\n",
        "    # Early stopping if desired validation accuracy is reached\n",
        "    if best_val_acc >= 98.0:\n",
        "        print(\"Desired accuracy achieved. Stopping early.\")\n",
        "        break"
      ]
    },
    {
      "cell_type": "code",
      "execution_count": null,
      "id": "041cb62b-21ef-416d-903b-40fd62a954c3",
      "metadata": {
        "id": "041cb62b-21ef-416d-903b-40fd62a954c3"
      },
      "outputs": [],
      "source": []
    }
  ],
  "metadata": {
    "kernelspec": {
      "display_name": "Python [conda env:base] *",
      "language": "python",
      "name": "conda-base-py"
    },
    "language_info": {
      "codemirror_mode": {
        "name": "ipython",
        "version": 3
      },
      "file_extension": ".py",
      "mimetype": "text/x-python",
      "name": "python",
      "nbconvert_exporter": "python",
      "pygments_lexer": "ipython3",
      "version": "3.12.7"
    },
    "colab": {
      "provenance": [],
      "gpuType": "T4"
    },
    "accelerator": "GPU"
  },
  "nbformat": 4,
  "nbformat_minor": 5
}